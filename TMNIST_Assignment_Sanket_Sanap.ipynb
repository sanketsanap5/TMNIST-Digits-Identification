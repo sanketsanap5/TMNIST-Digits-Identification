{
  "cells": [
    {
      "cell_type": "code",
      "execution_count": null,
      "metadata": {
        "id": "YoV3zmfnR_ww"
      },
      "outputs": [],
      "source": [
        "# Importing Librarie\n",
        "import numpy as np\n",
        "import pandas as pd\n",
        "import os\n",
        "import tensorflow as tf\n",
        "from tensorflow import keras\n",
        "from keras import layers, models\n",
        "from keras.layers import Dense,Dropout,BatchNormalization, ReLU,Softmax\n",
        "from sklearn.model_selection import train_test_split\n",
        "from tensorflow.keras.utils import to_categorical\n",
        "from sklearn.metrics import confusion_matrix\n",
        "from sklearn.metrics import accuracy_score\n",
        "import matplotlib.pyplot as plt\n",
        "import requests\n",
        "from PIL import Image\n",
        "from io import BytesIO"
      ]
    },
    {
      "cell_type": "markdown",
      "metadata": {
        "id": "82FwLS_T1Fab"
      },
      "source": [
        "## Abstract\n",
        "\n",
        "In this notebook we are going to perform digits recognition on (0-9 digit) Typeface-based digit dataset by using a simple CNN network with a 2 layer CNN with the help of TensorFlow library.\n",
        "\n",
        "Then we will also validate the model accuracy using evaluation scheme and test the model on real world sample image of digit and verify the accuracy"
      ]
    },
    {
      "cell_type": "code",
      "execution_count": null,
      "metadata": {
        "id": "nReVM6L6UYo6"
      },
      "outputs": [],
      "source": [
        "# Loading the csv dataset from Google Drive\n",
        "filePath = '/content/drive/MyDrive/Colab Notebooks/TMNIST_Data.csv'\n",
        "dataSet = pd.read_csv(filePath)\n",
        "\n",
        "#Converting to List format\n",
        "dataList = dataSet.values.tolist()\n",
        "\n",
        "data = []\n",
        "x = []\n",
        "y = []\n",
        "train_data = []\n",
        "train_label = []\n",
        "test_data = []\n",
        "test_label = []"
      ]
    },
    {
      "cell_type": "code",
      "execution_count": null,
      "metadata": {
        "colab": {
          "base_uri": "https://localhost:8080/"
        },
        "id": "HRRXuxcTdcH8",
        "outputId": "4d13e1f0-2861-4f22-bc19-bab482123c29"
      },
      "outputs": [
        {
          "output_type": "execute_result",
          "data": {
            "text/plain": [
              "GrandHotel-Regular          10\n",
              "Laila-Regular               10\n",
              "Tajawal-Medium              10\n",
              "Numans-Regular              10\n",
              "PT_Sans-Web-Italic          10\n",
              "                            ..\n",
              "Thasadith-Bold              10\n",
              "CherryBomb-Regular          10\n",
              "NotoSansOriyaUI-Thin        10\n",
              "Kodchasan-SemiBoldItalic    10\n",
              "AveriaSerifLibre-Ligh       10\n",
              "Name: names, Length: 2990, dtype: int64"
            ]
          },
          "metadata": {},
          "execution_count": 579
        }
      ],
      "source": [
        "dataSet['names'].value_counts()"
      ]
    },
    {
      "cell_type": "markdown",
      "metadata": {
        "id": "9VE5CYW29LCN"
      },
      "source": [
        "## Reshaping - Splitting Data\n",
        "\n",
        "Splitting dataset into train, test"
      ]
    },
    {
      "cell_type": "code",
      "execution_count": null,
      "metadata": {
        "id": "1w6OoVYl0gxP"
      },
      "outputs": [],
      "source": [
        "x = []\n",
        "y = []\n",
        "\n",
        "#Reshaping data\n",
        "for i in range(len(dataList)):\n",
        "    label = dataList[i][1]\n",
        "    a = dataList[i][2:]\n",
        "    a = np.array(a)\n",
        "    a = a.reshape(28, 28).tolist()\n",
        "    x.append(a)\n",
        "    y.append(label)\n",
        "\n",
        "#Splitting dataset into train, test\n",
        "train_data, test_data, train_label, test_label = train_test_split(x, y, test_size=0.25, random_state=1)"
      ]
    },
    {
      "cell_type": "code",
      "execution_count": null,
      "metadata": {
        "colab": {
          "base_uri": "https://localhost:8080/"
        },
        "id": "STgxzmDh1YHS",
        "outputId": "1a717e4c-675b-4c11-bc71-8442057d45c7"
      },
      "outputs": [
        {
          "output_type": "stream",
          "name": "stdout",
          "text": [
            "22425\n",
            "7475\n"
          ]
        }
      ],
      "source": [
        "# the length of train and test data\n",
        "print(len(train_data))\n",
        "print(len(test_data))"
      ]
    },
    {
      "cell_type": "markdown",
      "metadata": {
        "id": "0Tz2SZyH9VeG"
      },
      "source": [
        "### Sample Image Plot"
      ]
    },
    {
      "cell_type": "code",
      "execution_count": null,
      "metadata": {
        "colab": {
          "base_uri": "https://localhost:8080/",
          "height": 268
        },
        "id": "OsjI6N9D0gzb",
        "outputId": "b33930e4-e9f4-4839-c1a8-90e5ae7b13c7"
      },
      "outputs": [
        {
          "output_type": "display_data",
          "data": {
            "text/plain": [
              "<Figure size 432x288 with 4 Axes>"
            ],
            "image/png": "[encoded data removed]"
          },
          "metadata": {
            "needs_background": "light"
          }
        }
      ],
      "source": [
        "# plotting sample 4 images\n",
        "plt.subplot(221)\n",
        "plt.imshow(train_data[0])\n",
        "plt.subplot(222)\n",
        "plt.imshow(train_data[1])\n",
        "plt.subplot(223)\n",
        "plt.imshow(train_data[2])\n",
        "plt.subplot(224)\n",
        "plt.imshow(train_data[3])\n",
        "\n",
        "# show the plot\n",
        "plt.show()"
      ]
    },
    {
      "cell_type": "code",
      "execution_count": null,
      "metadata": {
        "id": "Gc49GsQ70g1t"
      },
      "outputs": [],
      "source": [
        "# Convert the list for data preprocessing\n",
        "train_data = np.array(train_data)\n",
        "test_data = np.array(test_data)\n",
        "train_label = np.array(train_label)\n",
        "test_label = np.array(test_label)"
      ]
    },
    {
      "cell_type": "markdown",
      "metadata": {
        "id": "I4zmX67G9aA_"
      },
      "source": [
        "### Normalizing Data\n",
        "\n",
        "Reshaping the train, test data and converting it in 32-bit precision float format to train a neural network\n",
        "\n",
        "We are also scaling the features in 0.0 - 1.0 by dividing it by 255 (Max. value of a byte) so that neural network works well with default learning rate with minimal loss\n",
        "\n",
        "\n"
      ]
    },
    {
      "cell_type": "code",
      "execution_count": null,
      "metadata": {
        "id": "Xo7OEEbr0g3i"
      },
      "outputs": [],
      "source": [
        "#Reshaping the train, test data and converting it in standardized float format \n",
        "train_data = train_data.reshape((22425, 28, 28, 1))\n",
        "train_data = train_data.astype('float32') / 255\n",
        "\n",
        "test_data = test_data.reshape((7475, 28, 28, 1))\n",
        "test_data = test_data.astype('float32') / 255\n",
        "\n",
        "# Convert class vector to a binary class\n",
        "train_label = to_categorical(train_label)\n",
        "test_label = to_categorical(test_label)"
      ]
    },
    {
      "cell_type": "markdown",
      "metadata": {
        "id": "RJl0Cra-9nzS"
      },
      "source": [
        "## Build Model\n",
        "\n",
        "Let's build Sequential CNN model with 2 layer filters with pool size of 3 * 3 for a pooling operation that calculates the maximum, or largest, value in each patch of each feature map with 1 input 1 output network layer\n",
        "\n",
        "Activation function as **ReLU** which is a non-linear activation function that performs on multi-layer neural networks for better computation performance on 28 * 28 shape input frame\n",
        "\n",
        "We are using **Softmax** function in last output layer to turn a vector of a real values into probability distribution"
      ]
    },
    {
      "cell_type": "code",
      "execution_count": null,
      "metadata": {
        "colab": {
          "base_uri": "https://localhost:8080/"
        },
        "id": "x_HPEfBk0g5Y",
        "outputId": "d08ed5f5-3659-4032-d629-2d5d6015e7cc"
      },
      "outputs": [
        {
          "output_type": "stream",
          "name": "stdout",
          "text": [
            "Model: \"sequential_14\"\n",
            "_________________________________________________________________\n",
            " Layer (type)                Output Shape              Param #   \n",
            "=================================================================\n",
            " conv2d_63 (Conv2D)          (None, 26, 26, 32)        320       \n",
            "                                                                 \n",
            " max_pooling2d_38 (MaxPoolin  (None, 13, 13, 32)       0         \n",
            " g2D)                                                            \n",
            "                                                                 \n",
            " conv2d_64 (Conv2D)          (None, 11, 11, 64)        18496     \n",
            "                                                                 \n",
            " max_pooling2d_39 (MaxPoolin  (None, 5, 5, 64)         0         \n",
            " g2D)                                                            \n",
            "                                                                 \n",
            " flatten_19 (Flatten)        (None, 1600)              0         \n",
            "                                                                 \n",
            " dense_32 (Dense)            (None, 64)                102464    \n",
            "                                                                 \n",
            " dense_33 (Dense)            (None, 10)                650       \n",
            "                                                                 \n",
            "=================================================================\n",
            "Total params: 121,930\n",
            "Trainable params: 121,930\n",
            "Non-trainable params: 0\n",
            "_________________________________________________________________\n"
          ]
        }
      ],
      "source": [
        "# Using Sequential model\n",
        "model = models.Sequential()\n",
        "\n",
        "#1st Layer with kernel size 3*3 with pool size of 2*2 and ReLU as activation function for 28*28 shape input img\n",
        "model.add(layers.Conv2D(32, (3, 3), activation='relu', input_shape=(28, 28, 1)))\n",
        "model.add(layers.MaxPooling2D((2, 2)))\n",
        "\n",
        "#2n Layer with kernel size 3*3 with pool size of 2*2 and ReLu as activation function for 28*28 shape input img\n",
        "model.add(layers.Conv2D(64, (3, 3), activation='relu'))\n",
        "model.add(layers.MaxPooling2D((2, 2)))\n",
        "\n",
        "model.add(layers.Conv2D(64, (3, 3), activation='relu'))\n",
        "\n",
        "#Flattening the inputs\n",
        "model.add(layers.Flatten())\n",
        "\n",
        "#Densely connected NN\n",
        "model.add(layers.Dense(64, activation='relu'))\n",
        "\n",
        "model.add(layers.Dense(10, activation='softmax'))\n",
        "\n",
        "model.summary()"
      ]
    },
    {
      "cell_type": "markdown",
      "source": [
        "# Training the model\n",
        "\n",
        "We will be using rmsprop optimizer with categorical_crossentropy loss function and will be using Accuracy for performance metrics\n",
        "\n",
        "We are using 20% validation split and 5 Epochs with 64 batch size input \n",
        "\n",
        "As the number of epochs increases, more number of times the weight are changed in the neural network\n",
        "\n",
        "At each iteration, we can see that Accuracy is increasing and loss is decreasing in both training and validation\n"
      ],
      "metadata": {
        "id": "keZb32HkCegy"
      }
    },
    {
      "cell_type": "code",
      "execution_count": null,
      "metadata": {
        "colab": {
          "base_uri": "https://localhost:8080/"
        },
        "id": "k0O5QjbKSdBm",
        "outputId": "7d76c523-f8ce-42f9-888a-6e80524a327a"
      },
      "outputs": [
        {
          "output_type": "stream",
          "name": "stdout",
          "text": [
            "Epoch 1/5\n",
            "281/281 [==============================] - 18s 60ms/step - loss: 0.0217 - accuracy: 0.9936 - val_loss: 0.0496 - val_accuracy: 0.9871\n",
            "Epoch 2/5\n",
            "281/281 [==============================] - 17s 60ms/step - loss: 0.0166 - accuracy: 0.9949 - val_loss: 0.0581 - val_accuracy: 0.9862\n",
            "Epoch 3/5\n",
            "281/281 [==============================] - 17s 60ms/step - loss: 0.0126 - accuracy: 0.9963 - val_loss: 0.0541 - val_accuracy: 0.9891\n",
            "Epoch 4/5\n",
            "281/281 [==============================] - 17s 60ms/step - loss: 0.0112 - accuracy: 0.9972 - val_loss: 0.0559 - val_accuracy: 0.9889\n",
            "Epoch 5/5\n",
            "281/281 [==============================] - 17s 60ms/step - loss: 0.0093 - accuracy: 0.9975 - val_loss: 0.0536 - val_accuracy: 0.9906\n"
          ]
        }
      ],
      "source": [
        "model.compile(optimizer='rmsprop',\n",
        "              loss='categorical_crossentropy',\n",
        "              metrics=['accuracy'])\n",
        "history = model.fit(train_data, train_label, validation_split=0.20,epochs=5, batch_size=64)"
      ]
    },
    {
      "cell_type": "markdown",
      "source": [
        "# Visualizing the Model"
      ],
      "metadata": {
        "id": "qyBIxDg_EoQV"
      }
    },
    {
      "cell_type": "code",
      "execution_count": null,
      "metadata": {
        "id": "TY4Wjx5S2Hbo"
      },
      "outputs": [],
      "source": [
        "#Visualize the model evaluation scheme\n",
        "def my_plot(history):\n",
        "  fig, ax1 = plt.subplots()\n",
        "  ax2 = ax1.twinx()\n",
        "    \n",
        "  ax1.plot(history.history['accuracy'], label='Training Accuracy', color='green')\n",
        "  ax1.plot(history.history['val_accuracy'], label='Validation Accuracy', color='blue')\n",
        "    \n",
        "  ax2.plot(history.history['loss'], label = 'Training Loss', color='orange')\n",
        "  ax2.plot(history.history['val_loss'], label = 'Validation Loss', color='red')\n",
        "  \n",
        "  ax1.set_xlabel('Epochs')\n",
        "  ax1.set_ylabel('Accuracy', color='g')\n",
        "  ax2.set_ylabel('Loss', color='b')\n",
        "    \n",
        "  ax1.legend(loc=1)  \n",
        "  ax2.legend(loc=3)\n",
        "  # plt.ylim([0.6, 2.5])\n",
        "  plt.title('Training-Validation Loss and Accuracy')\n",
        "  plt.show()"
      ]
    },
    {
      "cell_type": "markdown",
      "source": [
        "# Model Performance Visualization\n"
      ],
      "metadata": {
        "id": "PWo5e54pEs-J"
      }
    },
    {
      "cell_type": "code",
      "execution_count": null,
      "metadata": {
        "colab": {
          "base_uri": "https://localhost:8080/",
          "height": 295
        },
        "id": "HOcFkh4w2Hds",
        "outputId": "75915714-d916-4bd6-c7f2-e55ab849f975"
      },
      "outputs": [
        {
          "output_type": "display_data",
          "data": {
            "text/plain": [
              "<Figure size 432x288 with 2 Axes>"
            ],
            "image/png": "[encoded data removed]"
          },
          "metadata": {
            "needs_background": "light"
          }
        }
      ],
      "source": [
        "my_plot(history)"
      ]
    },
    {
      "cell_type": "markdown",
      "source": [
        "# Evaluating Model Accuracy on Test Data\n",
        "\n",
        "Let's evaluate the model on test data set and find out how model is working.\n",
        "\n",
        "We can see below, We are getting model accuracy of 99.10% which is preety good for 2 layer CNN"
      ],
      "metadata": {
        "id": "F4-AY5YrCSTk"
      }
    },
    {
      "cell_type": "code",
      "execution_count": null,
      "metadata": {
        "colab": {
          "base_uri": "https://localhost:8080/"
        },
        "id": "8M6EqgJaXcx1",
        "outputId": "81d43fcc-2156-46e6-c21a-4ba0d303ad2a"
      },
      "outputs": [
        {
          "output_type": "stream",
          "name": "stdout",
          "text": [
            "234/234 [==============================] - 2s 9ms/step - loss: 0.0464 - accuracy: 0.9910\n",
            "Model Accuracy Results:  0.9910367727279663\n"
          ]
        }
      ],
      "source": [
        "test_loss, test_acc = model.evaluate(test_data, test_label)\n",
        "print(\"Model Accuracy Results: \", test_acc)"
      ]
    },
    {
      "cell_type": "code",
      "execution_count": null,
      "metadata": {
        "colab": {
          "base_uri": "https://localhost:8080/"
        },
        "id": "skLQBjIGaHnz",
        "outputId": "6f4dac18-03c9-4589-ca2d-c4e793a23408"
      },
      "outputs": [
        {
          "output_type": "stream",
          "name": "stdout",
          "text": [
            "[7 9 7 7 7 5 8 8 5 0]\n",
            "[7 9 7 7 7 5 8 8 5 0]\n"
          ]
        }
      ],
      "source": [
        "# Prediction on test data to calculate the confusion metrix\n",
        "pred=model.predict(test_data)\n",
        "\n",
        "y_pred=[]\n",
        "y_true=[]\n",
        "for i in pred:\n",
        "  y_pred+=[np.argmax(i)]\n",
        "for i in test_label:\n",
        "  y_true+=[np.argmax(i)]\n",
        "\n",
        "PRED=np.array(y_pred)\n",
        "ANS=np.array(y_true)\n",
        "print(PRED[0:10])\n",
        "print(ANS[0:10])"
      ]
    },
    {
      "cell_type": "markdown",
      "source": [
        "# Confusion Metrix\n",
        "\n",
        "Let's create a confusion metrix for test data evaluation\n",
        "\n",
        "We can see below, numbers of counts on diagonal are the correctly identified digits from test data\n",
        "\n",
        "Whereas all other count of numbers are wrongly identified\n",
        "\n",
        "In this case the model is pretty accurate and hence there are very less number of miss identified digits can be seen"
      ],
      "metadata": {
        "id": "Q0XwSsabHuFZ"
      }
    },
    {
      "cell_type": "code",
      "execution_count": null,
      "metadata": {
        "colab": {
          "base_uri": "https://localhost:8080/",
          "height": 381
        },
        "id": "znmzAVYUE_ra",
        "outputId": "5d193bd1-f7db-4d81-ff6c-6bc71c859499"
      },
      "outputs": [
        {
          "output_type": "stream",
          "name": "stdout",
          "text": [
            "Accuracy :  0.9910367892976588\n"
          ]
        },
        {
          "output_type": "execute_result",
          "data": {
            "text/plain": [
              "     0    1    2    3    4    5    6    7    8    9\n",
              "0  726    0    2    0    0    0    2    0    0    0\n",
              "1    0  743    1    0    2    0    0   10    0    0\n",
              "2    0    1  742    1    0    0    0    0    2    3\n",
              "3    0    1    1  747    1    1    0    0    3    0\n",
              "4    0    1    0    0  779    0    0    0    1    0\n",
              "5    0    1    0    1    1  733    2    1    1    0\n",
              "6    1    0    0    0    1    0  752    0    1    0\n",
              "7    0    4    1    0    0    0    0  738    1    0\n",
              "8    3    4    0    0    1    1    0    1  690    0\n",
              "9    2    0    0    2    2    0    0    1    1  758"
            ],
            "text/html": [
              "\n",
              "  <div id=\"df-16a8d3b4-7ec6-4ae0-9ddd-d276834cb79c\">\n",
              "    <div class=\"colab-df-container\">\n",
              "      <div>\n",
              "<style scoped>\n",
              "    .dataframe tbody tr th:only-of-type {\n",
              "        vertical-align: middle;\n",
              "    }\n",
              "\n",
              "    .dataframe tbody tr th {\n",
              "        vertical-align: top;\n",
              "    }\n",
              "\n",
              "    .dataframe thead th {\n",
              "        text-align: right;\n",
              "    }\n",
              "</style>\n",
              "<table border=\"1\" class=\"dataframe\">\n",
              "  <thead>\n",
              "    <tr style=\"text-align: right;\">\n",
              "      <th></th>\n",
              "      <th>0</th>\n",
              "      <th>1</th>\n",
              "      <th>2</th>\n",
              "      <th>3</th>\n",
              "      <th>4</th>\n",
              "      <th>5</th>\n",
              "      <th>6</th>\n",
              "      <th>7</th>\n",
              "      <th>8</th>\n",
              "      <th>9</th>\n",
              "    </tr>\n",
              "  </thead>\n",
              "  <tbody>\n",
              "    <tr>\n",
              "      <th>0</th>\n",
              "      <td>726</td>\n",
              "      <td>0</td>\n",
              "      <td>2</td>\n",
              "      <td>0</td>\n",
              "      <td>0</td>\n",
              "      <td>0</td>\n",
              "      <td>2</td>\n",
              "      <td>0</td>\n",
              "      <td>0</td>\n",
              "      <td>0</td>\n",
              "    </tr>\n",
              "    <tr>\n",
              "      <th>1</th>\n",
              "      <td>0</td>\n",
              "      <td>743</td>\n",
              "      <td>1</td>\n",
              "      <td>0</td>\n",
              "      <td>2</td>\n",
              "      <td>0</td>\n",
              "      <td>0</td>\n",
              "      <td>10</td>\n",
              "      <td>0</td>\n",
              "      <td>0</td>\n",
              "    </tr>\n",
              "    <tr>\n",
              "      <th>2</th>\n",
              "      <td>0</td>\n",
              "      <td>1</td>\n",
              "      <td>742</td>\n",
              "      <td>1</td>\n",
              "      <td>0</td>\n",
              "      <td>0</td>\n",
              "      <td>0</td>\n",
              "      <td>0</td>\n",
              "      <td>2</td>\n",
              "      <td>3</td>\n",
              "    </tr>\n",
              "    <tr>\n",
              "      <th>3</th>\n",
              "      <td>0</td>\n",
              "      <td>1</td>\n",
              "      <td>1</td>\n",
              "      <td>747</td>\n",
              "      <td>1</td>\n",
              "      <td>1</td>\n",
              "      <td>0</td>\n",
              "      <td>0</td>\n",
              "      <td>3</td>\n",
              "      <td>0</td>\n",
              "    </tr>\n",
              "    <tr>\n",
              "      <th>4</th>\n",
              "      <td>0</td>\n",
              "      <td>1</td>\n",
              "      <td>0</td>\n",
              "      <td>0</td>\n",
              "      <td>779</td>\n",
              "      <td>0</td>\n",
              "      <td>0</td>\n",
              "      <td>0</td>\n",
              "      <td>1</td>\n",
              "      <td>0</td>\n",
              "    </tr>\n",
              "    <tr>\n",
              "      <th>5</th>\n",
              "      <td>0</td>\n",
              "      <td>1</td>\n",
              "      <td>0</td>\n",
              "      <td>1</td>\n",
              "      <td>1</td>\n",
              "      <td>733</td>\n",
              "      <td>2</td>\n",
              "      <td>1</td>\n",
              "      <td>1</td>\n",
              "      <td>0</td>\n",
              "    </tr>\n",
              "    <tr>\n",
              "      <th>6</th>\n",
              "      <td>1</td>\n",
              "      <td>0</td>\n",
              "      <td>0</td>\n",
              "      <td>0</td>\n",
              "      <td>1</td>\n",
              "      <td>0</td>\n",
              "      <td>752</td>\n",
              "      <td>0</td>\n",
              "      <td>1</td>\n",
              "      <td>0</td>\n",
              "    </tr>\n",
              "    <tr>\n",
              "      <th>7</th>\n",
              "      <td>0</td>\n",
              "      <td>4</td>\n",
              "      <td>1</td>\n",
              "      <td>0</td>\n",
              "      <td>0</td>\n",
              "      <td>0</td>\n",
              "      <td>0</td>\n",
              "      <td>738</td>\n",
              "      <td>1</td>\n",
              "      <td>0</td>\n",
              "    </tr>\n",
              "    <tr>\n",
              "      <th>8</th>\n",
              "      <td>3</td>\n",
              "      <td>4</td>\n",
              "      <td>0</td>\n",
              "      <td>0</td>\n",
              "      <td>1</td>\n",
              "      <td>1</td>\n",
              "      <td>0</td>\n",
              "      <td>1</td>\n",
              "      <td>690</td>\n",
              "      <td>0</td>\n",
              "    </tr>\n",
              "    <tr>\n",
              "      <th>9</th>\n",
              "      <td>2</td>\n",
              "      <td>0</td>\n",
              "      <td>0</td>\n",
              "      <td>2</td>\n",
              "      <td>2</td>\n",
              "      <td>0</td>\n",
              "      <td>0</td>\n",
              "      <td>1</td>\n",
              "      <td>1</td>\n",
              "      <td>758</td>\n",
              "    </tr>\n",
              "  </tbody>\n",
              "</table>\n",
              "</div>\n",
              "      <button class=\"colab-df-convert\" onclick=\"convertToInteractive('df-16a8d3b4-7ec6-4ae0-9ddd-d276834cb79c')\"\n",
              "              title=\"Convert this dataframe to an interactive table.\"\n",
              "              style=\"display:none;\">\n",
              "        \n",
              "  <svg xmlns=\"http://www.w3.org/2000/svg\" height=\"24px\"viewBox=\"0 0 24 24\"\n",
              "       width=\"24px\">\n",
              "    <path d=\"M0 0h24v24H0V0z\" fill=\"none\"/>\n",
              "    <path d=\"M18.56 5.44l.94 2.06.94-2.06 2.06-.94-2.06-.94-.94-2.06-.94 2.06-2.06.94zm-11 1L8.5 8.5l.94-2.06 2.06-.94-2.06-.94L8.5 2.5l-.94 2.06-2.06.94zm10 10l.94 2.06.94-2.06 2.06-.94-2.06-.94-.94-2.06-.94 2.06-2.06.94z\"/><path d=\"M17.41 7.96l-1.37-1.37c-.4-.4-.92-.59-1.43-.59-.52 0-1.04.2-1.43.59L10.3 9.45l-7.72 7.72c-.78.78-.78 2.05 0 2.83L4 21.41c.39.39.9.59 1.41.59.51 0 1.02-.2 1.41-.59l7.78-7.78 2.81-2.81c.8-.78.8-2.07 0-2.86zM5.41 20L4 18.59l7.72-7.72 1.47 1.35L5.41 20z\"/>\n",
              "  </svg>\n",
              "      </button>\n",
              "      \n",
              "  <style>\n",
              "    .colab-df-container {\n",
              "      display:flex;\n",
              "      flex-wrap:wrap;\n",
              "      gap: 12px;\n",
              "    }\n",
              "\n",
              "    .colab-df-convert {\n",
              "      background-color: #E8F0FE;\n",
              "      border: none;\n",
              "      border-radius: 50%;\n",
              "      cursor: pointer;\n",
              "      display: none;\n",
              "      fill: #1967D2;\n",
              "      height: 32px;\n",
              "      padding: 0 0 0 0;\n",
              "      width: 32px;\n",
              "    }\n",
              "\n",
              "    .colab-df-convert:hover {\n",
              "      background-color: #E2EBFA;\n",
              "      box-shadow: 0px 1px 2px rgba(60, 64, 67, 0.3), 0px 1px 3px 1px rgba(60, 64, 67, 0.15);\n",
              "      fill: #174EA6;\n",
              "    }\n",
              "\n",
              "    [theme=dark] .colab-df-convert {\n",
              "      background-color: #3B4455;\n",
              "      fill: #D2E3FC;\n",
              "    }\n",
              "\n",
              "    [theme=dark] .colab-df-convert:hover {\n",
              "      background-color: #434B5C;\n",
              "      box-shadow: 0px 1px 3px 1px rgba(0, 0, 0, 0.15);\n",
              "      filter: drop-shadow(0px 1px 2px rgba(0, 0, 0, 0.3));\n",
              "      fill: #FFFFFF;\n",
              "    }\n",
              "  </style>\n",
              "\n",
              "      <script>\n",
              "        const buttonEl =\n",
              "          document.querySelector('#df-16a8d3b4-7ec6-4ae0-9ddd-d276834cb79c button.colab-df-convert');\n",
              "        buttonEl.style.display =\n",
              "          google.colab.kernel.accessAllowed ? 'block' : 'none';\n",
              "\n",
              "        async function convertToInteractive(key) {\n",
              "          const element = document.querySelector('#df-16a8d3b4-7ec6-4ae0-9ddd-d276834cb79c');\n",
              "          const dataTable =\n",
              "            await google.colab.kernel.invokeFunction('convertToInteractive',\n",
              "                                                     [key], {});\n",
              "          if (!dataTable) return;\n",
              "\n",
              "          const docLinkHtml = 'Like what you see? Visit the ' +\n",
              "            '<a target=\"_blank\" href=https://colab.research.google.com/notebooks/data_table.ipynb>data table notebook</a>'\n",
              "            + ' to learn more about interactive tables.';\n",
              "          element.innerHTML = '';\n",
              "          dataTable['output_type'] = 'display_data';\n",
              "          await google.colab.output.renderOutput(dataTable, element);\n",
              "          const docLink = document.createElement('div');\n",
              "          docLink.innerHTML = docLinkHtml;\n",
              "          element.appendChild(docLink);\n",
              "        }\n",
              "      </script>\n",
              "    </div>\n",
              "  </div>\n",
              "  "
            ]
          },
          "metadata": {},
          "execution_count": 596
        }
      ],
      "source": [
        "df = pd.DataFrame(confusion_matrix(y_true, y_pred, labels=np.arange(0,10)))\n",
        "print('Accuracy : ',accuracy_score(y_true,y_pred))\n",
        "df"
      ]
    },
    {
      "cell_type": "markdown",
      "source": [
        "# Testing Custom Image\n",
        "\n",
        "Let's evaluate if our model can identify below fancy digit image of 7 correctly?"
      ],
      "metadata": {
        "id": "Ap3_cufqIWrU"
      }
    },
    {
      "cell_type": "markdown",
      "metadata": {
        "id": "LIAkIbJukRS3"
      },
      "source": [
        "![image_7.webp](data:image/webp;base64,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)"
      ]
    },
    {
      "cell_type": "markdown",
      "source": [
        "# Reading Image \n",
        "\n",
        "Reading the image and resizing it to our NN model size i.e. 28 * 28 and standardizing it to float array\n",
        "\n",
        "Showing resized 28 * 28 image in plot below"
      ],
      "metadata": {
        "id": "ESXjYJnIJLs2"
      }
    },
    {
      "cell_type": "code",
      "execution_count": null,
      "metadata": {
        "colab": {
          "base_uri": "https://localhost:8080/",
          "height": 283
        },
        "id": "xAvDO5NhYgOJ",
        "outputId": "3e76ced5-4b92-43ad-812d-4dbff526b398"
      },
      "outputs": [
        {
          "output_type": "execute_result",
          "data": {
            "text/plain": [
              "<matplotlib.image.AxesImage at 0x7f24904482d0>"
            ]
          },
          "metadata": {},
          "execution_count": 597
        },
        {
          "output_type": "display_data",
          "data": {
            "text/plain": [
              "<Figure size 432x288 with 1 Axes>"
            ],
            "image/png": "[encoded data removed]"
          },
          "metadata": {
            "needs_background": "light"
          }
        }
      ],
      "source": [
        "# Reading the image and resizing it to our NN model size i.e. 28 * 28 and standardizing it to float array\n",
        "from numpy.core.fromnumeric import squeeze\n",
        "path = \"https://static.wikia.nocookie.net/smpearth/images/0/06/Fiery_seven.jpg/revision/latest?cb=20200121090916\"\n",
        "r= requests.get(path)\n",
        "with BytesIO(r.content) as f:\n",
        "  img = Image.open(f).convert(mode=\"L\")\n",
        "  img = img.resize((28,28))\n",
        "  test_img = np.array(img)\n",
        "  test_img = test_img.astype('float32') / 255\n",
        "  x = (255 - np.expand_dims(np.array(test_img), -1))/255\n",
        "\n",
        "plt.imshow(x.squeeze(-1))"
      ]
    },
    {
      "cell_type": "markdown",
      "source": [
        "Showing resized 28 * 28 image in plot below in gray cmap"
      ],
      "metadata": {
        "id": "B-3DaJ5rJYfF"
      }
    },
    {
      "cell_type": "code",
      "execution_count": null,
      "metadata": {
        "colab": {
          "base_uri": "https://localhost:8080/",
          "height": 283
        },
        "id": "26d_0UQ3lTZ7",
        "outputId": "a73e823d-02db-4ca0-ad30-b90299e6e46f"
      },
      "outputs": [
        {
          "output_type": "execute_result",
          "data": {
            "text/plain": [
              "<matplotlib.image.AxesImage at 0x7f248ff62d90>"
            ]
          },
          "metadata": {},
          "execution_count": 598
        },
        {
          "output_type": "display_data",
          "data": {
            "text/plain": [
              "<Figure size 432x288 with 1 Axes>"
            ],
            "image/png": "[encoded data removed]"
          },
          "metadata": {
            "needs_background": "light"
          }
        }
      ],
      "source": [
        "plt.imshow(x.squeeze(-1), cmap='gray')"
      ]
    },
    {
      "cell_type": "markdown",
      "source": [
        "## Predicting Custom Image"
      ],
      "metadata": {
        "id": "SXAJe3MMJdsJ"
      }
    },
    {
      "cell_type": "code",
      "execution_count": null,
      "metadata": {
        "id": "CVXoXZolwWKh"
      },
      "outputs": [],
      "source": [
        "img_array = keras.preprocessing.image.img_to_array(x.squeeze(-1))\n",
        "pred_img = model.predict(np.expand_dims(img_array, axis=0)/255)"
      ]
    },
    {
      "cell_type": "code",
      "execution_count": null,
      "metadata": {
        "colab": {
          "base_uri": "https://localhost:8080/"
        },
        "id": "7iHiD-Aasn4s",
        "outputId": "a9dffc00-9cc1-4f1a-f031-7d3d5caf9e2a"
      },
      "outputs": [
        {
          "output_type": "stream",
          "name": "stdout",
          "text": [
            "Predicted:  [7]\n",
            "True:  [7]\n"
          ]
        }
      ],
      "source": [
        "y_true = [7]\n",
        "y_pred = [np.argmax(i) for i in pred_img]\n",
        "\n",
        "print('Predicted: ', y_pred)\n",
        "print('True: ',y_true)"
      ]
    },
    {
      "cell_type": "markdown",
      "source": [
        "## Confusion Metrix\n",
        "\n",
        "As we can see below, for 7-7 diagonal we see correct count of 1 and accuracy score is 1 i.e. 100%\n",
        "\n",
        "which means our model has correctly classified the custom image of 7 as digit 7"
      ],
      "metadata": {
        "id": "FmxonRAxJz8H"
      }
    },
    {
      "cell_type": "code",
      "execution_count": null,
      "metadata": {
        "colab": {
          "base_uri": "https://localhost:8080/",
          "height": 381
        },
        "id": "7hb1RgUastom",
        "outputId": "184c6dd1-4361-4a1d-fe8a-3d943e99e9b2"
      },
      "outputs": [
        {
          "output_type": "stream",
          "name": "stdout",
          "text": [
            "Accuracy :  1.0\n"
          ]
        },
        {
          "output_type": "execute_result",
          "data": {
            "text/plain": [
              "   0  1  2  3  4  5  6  7  8  9\n",
              "0  0  0  0  0  0  0  0  0  0  0\n",
              "1  0  0  0  0  0  0  0  0  0  0\n",
              "2  0  0  0  0  0  0  0  0  0  0\n",
              "3  0  0  0  0  0  0  0  0  0  0\n",
              "4  0  0  0  0  0  0  0  0  0  0\n",
              "5  0  0  0  0  0  0  0  0  0  0\n",
              "6  0  0  0  0  0  0  0  0  0  0\n",
              "7  0  0  0  0  0  0  0  1  0  0\n",
              "8  0  0  0  0  0  0  0  0  0  0\n",
              "9  0  0  0  0  0  0  0  0  0  0"
            ],
            "text/html": [
              "\n",
              "  <div id=\"df-5e207398-6877-46e6-8a9f-2a22ddfe40c5\">\n",
              "    <div class=\"colab-df-container\">\n",
              "      <div>\n",
              "<style scoped>\n",
              "    .dataframe tbody tr th:only-of-type {\n",
              "        vertical-align: middle;\n",
              "    }\n",
              "\n",
              "    .dataframe tbody tr th {\n",
              "        vertical-align: top;\n",
              "    }\n",
              "\n",
              "    .dataframe thead th {\n",
              "        text-align: right;\n",
              "    }\n",
              "</style>\n",
              "<table border=\"1\" class=\"dataframe\">\n",
              "  <thead>\n",
              "    <tr style=\"text-align: right;\">\n",
              "      <th></th>\n",
              "      <th>0</th>\n",
              "      <th>1</th>\n",
              "      <th>2</th>\n",
              "      <th>3</th>\n",
              "      <th>4</th>\n",
              "      <th>5</th>\n",
              "      <th>6</th>\n",
              "      <th>7</th>\n",
              "      <th>8</th>\n",
              "      <th>9</th>\n",
              "    </tr>\n",
              "  </thead>\n",
              "  <tbody>\n",
              "    <tr>\n",
              "      <th>0</th>\n",
              "      <td>0</td>\n",
              "      <td>0</td>\n",
              "      <td>0</td>\n",
              "      <td>0</td>\n",
              "      <td>0</td>\n",
              "      <td>0</td>\n",
              "      <td>0</td>\n",
              "      <td>0</td>\n",
              "      <td>0</td>\n",
              "      <td>0</td>\n",
              "    </tr>\n",
              "    <tr>\n",
              "      <th>1</th>\n",
              "      <td>0</td>\n",
              "      <td>0</td>\n",
              "      <td>0</td>\n",
              "      <td>0</td>\n",
              "      <td>0</td>\n",
              "      <td>0</td>\n",
              "      <td>0</td>\n",
              "      <td>0</td>\n",
              "      <td>0</td>\n",
              "      <td>0</td>\n",
              "    </tr>\n",
              "    <tr>\n",
              "      <th>2</th>\n",
              "      <td>0</td>\n",
              "      <td>0</td>\n",
              "      <td>0</td>\n",
              "      <td>0</td>\n",
              "      <td>0</td>\n",
              "      <td>0</td>\n",
              "      <td>0</td>\n",
              "      <td>0</td>\n",
              "      <td>0</td>\n",
              "      <td>0</td>\n",
              "    </tr>\n",
              "    <tr>\n",
              "      <th>3</th>\n",
              "      <td>0</td>\n",
              "      <td>0</td>\n",
              "      <td>0</td>\n",
              "      <td>0</td>\n",
              "      <td>0</td>\n",
              "      <td>0</td>\n",
              "      <td>0</td>\n",
              "      <td>0</td>\n",
              "      <td>0</td>\n",
              "      <td>0</td>\n",
              "    </tr>\n",
              "    <tr>\n",
              "      <th>4</th>\n",
              "      <td>0</td>\n",
              "      <td>0</td>\n",
              "      <td>0</td>\n",
              "      <td>0</td>\n",
              "      <td>0</td>\n",
              "      <td>0</td>\n",
              "      <td>0</td>\n",
              "      <td>0</td>\n",
              "      <td>0</td>\n",
              "      <td>0</td>\n",
              "    </tr>\n",
              "    <tr>\n",
              "      <th>5</th>\n",
              "      <td>0</td>\n",
              "      <td>0</td>\n",
              "      <td>0</td>\n",
              "      <td>0</td>\n",
              "      <td>0</td>\n",
              "      <td>0</td>\n",
              "      <td>0</td>\n",
              "      <td>0</td>\n",
              "      <td>0</td>\n",
              "      <td>0</td>\n",
              "    </tr>\n",
              "    <tr>\n",
              "      <th>6</th>\n",
              "      <td>0</td>\n",
              "      <td>0</td>\n",
              "      <td>0</td>\n",
              "      <td>0</td>\n",
              "      <td>0</td>\n",
              "      <td>0</td>\n",
              "      <td>0</td>\n",
              "      <td>0</td>\n",
              "      <td>0</td>\n",
              "      <td>0</td>\n",
              "    </tr>\n",
              "    <tr>\n",
              "      <th>7</th>\n",
              "      <td>0</td>\n",
              "      <td>0</td>\n",
              "      <td>0</td>\n",
              "      <td>0</td>\n",
              "      <td>0</td>\n",
              "      <td>0</td>\n",
              "      <td>0</td>\n",
              "      <td>1</td>\n",
              "      <td>0</td>\n",
              "      <td>0</td>\n",
              "    </tr>\n",
              "    <tr>\n",
              "      <th>8</th>\n",
              "      <td>0</td>\n",
              "      <td>0</td>\n",
              "      <td>0</td>\n",
              "      <td>0</td>\n",
              "      <td>0</td>\n",
              "      <td>0</td>\n",
              "      <td>0</td>\n",
              "      <td>0</td>\n",
              "      <td>0</td>\n",
              "      <td>0</td>\n",
              "    </tr>\n",
              "    <tr>\n",
              "      <th>9</th>\n",
              "      <td>0</td>\n",
              "      <td>0</td>\n",
              "      <td>0</td>\n",
              "      <td>0</td>\n",
              "      <td>0</td>\n",
              "      <td>0</td>\n",
              "      <td>0</td>\n",
              "      <td>0</td>\n",
              "      <td>0</td>\n",
              "      <td>0</td>\n",
              "    </tr>\n",
              "  </tbody>\n",
              "</table>\n",
              "</div>\n",
              "      <button class=\"colab-df-convert\" onclick=\"convertToInteractive('df-5e207398-6877-46e6-8a9f-2a22ddfe40c5')\"\n",
              "              title=\"Convert this dataframe to an interactive table.\"\n",
              "              style=\"display:none;\">\n",
              "        \n",
              "  <svg xmlns=\"http://www.w3.org/2000/svg\" height=\"24px\"viewBox=\"0 0 24 24\"\n",
              "       width=\"24px\">\n",
              "    <path d=\"M0 0h24v24H0V0z\" fill=\"none\"/>\n",
              "    <path d=\"M18.56 5.44l.94 2.06.94-2.06 2.06-.94-2.06-.94-.94-2.06-.94 2.06-2.06.94zm-11 1L8.5 8.5l.94-2.06 2.06-.94-2.06-.94L8.5 2.5l-.94 2.06-2.06.94zm10 10l.94 2.06.94-2.06 2.06-.94-2.06-.94-.94-2.06-.94 2.06-2.06.94z\"/><path d=\"M17.41 7.96l-1.37-1.37c-.4-.4-.92-.59-1.43-.59-.52 0-1.04.2-1.43.59L10.3 9.45l-7.72 7.72c-.78.78-.78 2.05 0 2.83L4 21.41c.39.39.9.59 1.41.59.51 0 1.02-.2 1.41-.59l7.78-7.78 2.81-2.81c.8-.78.8-2.07 0-2.86zM5.41 20L4 18.59l7.72-7.72 1.47 1.35L5.41 20z\"/>\n",
              "  </svg>\n",
              "      </button>\n",
              "      \n",
              "  <style>\n",
              "    .colab-df-container {\n",
              "      display:flex;\n",
              "      flex-wrap:wrap;\n",
              "      gap: 12px;\n",
              "    }\n",
              "\n",
              "    .colab-df-convert {\n",
              "      background-color: #E8F0FE;\n",
              "      border: none;\n",
              "      border-radius: 50%;\n",
              "      cursor: pointer;\n",
              "      display: none;\n",
              "      fill: #1967D2;\n",
              "      height: 32px;\n",
              "      padding: 0 0 0 0;\n",
              "      width: 32px;\n",
              "    }\n",
              "\n",
              "    .colab-df-convert:hover {\n",
              "      background-color: #E2EBFA;\n",
              "      box-shadow: 0px 1px 2px rgba(60, 64, 67, 0.3), 0px 1px 3px 1px rgba(60, 64, 67, 0.15);\n",
              "      fill: #174EA6;\n",
              "    }\n",
              "\n",
              "    [theme=dark] .colab-df-convert {\n",
              "      background-color: #3B4455;\n",
              "      fill: #D2E3FC;\n",
              "    }\n",
              "\n",
              "    [theme=dark] .colab-df-convert:hover {\n",
              "      background-color: #434B5C;\n",
              "      box-shadow: 0px 1px 3px 1px rgba(0, 0, 0, 0.15);\n",
              "      filter: drop-shadow(0px 1px 2px rgba(0, 0, 0, 0.3));\n",
              "      fill: #FFFFFF;\n",
              "    }\n",
              "  </style>\n",
              "\n",
              "      <script>\n",
              "        const buttonEl =\n",
              "          document.querySelector('#df-5e207398-6877-46e6-8a9f-2a22ddfe40c5 button.colab-df-convert');\n",
              "        buttonEl.style.display =\n",
              "          google.colab.kernel.accessAllowed ? 'block' : 'none';\n",
              "\n",
              "        async function convertToInteractive(key) {\n",
              "          const element = document.querySelector('#df-5e207398-6877-46e6-8a9f-2a22ddfe40c5');\n",
              "          const dataTable =\n",
              "            await google.colab.kernel.invokeFunction('convertToInteractive',\n",
              "                                                     [key], {});\n",
              "          if (!dataTable) return;\n",
              "\n",
              "          const docLinkHtml = 'Like what you see? Visit the ' +\n",
              "            '<a target=\"_blank\" href=https://colab.research.google.com/notebooks/data_table.ipynb>data table notebook</a>'\n",
              "            + ' to learn more about interactive tables.';\n",
              "          element.innerHTML = '';\n",
              "          dataTable['output_type'] = 'display_data';\n",
              "          await google.colab.output.renderOutput(dataTable, element);\n",
              "          const docLink = document.createElement('div');\n",
              "          docLink.innerHTML = docLinkHtml;\n",
              "          element.appendChild(docLink);\n",
              "        }\n",
              "      </script>\n",
              "    </div>\n",
              "  </div>\n",
              "  "
            ]
          },
          "metadata": {},
          "execution_count": 603
        }
      ],
      "source": [
        "df =pd.DataFrame(confusion_matrix(y_true, y_pred, labels=np.arange(0,10)))\n",
        "print('Accuracy : ',accuracy_score(y_true,y_pred))\n",
        "df"
      ]
    },
    {
      "cell_type": "markdown",
      "metadata": {
        "id": "zL0UAq3A1Kij"
      },
      "source": [
        "## Conclusion\n",
        "\n",
        "We created sequential CNN model with 2 layer and after 5 rounds of training with 64 sets of data in each step we got accuracy of 99% which is pretty good for 2 layer CNN\n",
        "\n",
        "The accuracy of the model during training reached 99.38%, and the test data set reached 99.10%\n",
        "\n",
        "At each iteration the accuracy was increasing and loss was seen to be reduced marginally"
      ]
    },
    {
      "cell_type": "markdown",
      "source": [
        "## References\n",
        "\n",
        "\n",
        "1. https://www.kaggle.com/code/sheshngupta/tminst-character-recognition-94-4-accuracy\n",
        "\n",
        "2. https://www.kaggle.com/code/huchunjun/99-1-tmnist-typefacemnist-chunjunhu\n"
      ],
      "metadata": {
        "id": "mF8i2yIdKnUs"
      }
    },
    {
      "cell_type": "markdown",
      "source": [
        "#License\n",
        "\n",
        "MIT License\n",
        "\n",
        "Copyright (c) 2022 Sanket Sanap\n",
        "\n",
        "Permission is hereby granted, free of charge, to any person obtaining a copy of this software and associated documentation files (the \"Software\"), to deal in the Software without restriction, including without limitation the rights to use, copy, modify, merge, publish, distribute, sublicense, and/or sell copies of the Software, and to permit persons to whom the Software is furnished to do so, subject to the following conditions:\n",
        "\n",
        "The above copyright notice and this permission notice shall be included in all copies or substantial portions of the Software.\n",
        "\n",
        "THE SOFTWARE IS PROVIDED \"AS IS\", WITHOUT WARRANTY OF ANY KIND, EXPRESS OR IMPLIED, INCLUDING BUT NOT LIMITED TO THE WARRANTIES OF MERCHANTABILITY, FITNESS FOR A PARTICULAR PURPOSE AND NONINFRINGEMENT. IN NO EVENT SHALL THE AUTHORS OR COPYRIGHT HOLDERS BE LIABLE FOR ANY CLAIM, DAMAGES OR OTHER LIABILITY, WHETHER IN AN ACTION OF CONTRACT, TORT OR OTHERWISE, ARISING FROM, OUT OF OR IN CONNECTION WITH THE SOFTWARE OR THE USE OR OTHER DEALINGS IN THE SOFTWARE."
      ],
      "metadata": {
        "id": "AzwEOAJsKeZF"
      }
    }
  ],
  "metadata": {
    "colab": {
      "collapsed_sections": [],
      "name": "TMNIST Assignment Sanket Sanap.ipynb",
      "provenance": []
    },
    "kernelspec": {
      "display_name": "Python 3",
      "name": "python3"
    },
    "language_info": {
      "name": "python"
    }
  },
  "nbformat": 4,
  "nbformat_minor": 0
}